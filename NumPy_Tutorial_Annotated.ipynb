{
  "cells": [
    {
      "cell_type": "markdown",
      "metadata": {
        "id": "view-in-github",
        "colab_type": "text"
      },
      "source": [
        "<a href=\"https://colab.research.google.com/github/giridharpalla/python_ds/blob/main/NumPy_Tutorial_Annotated.ipynb\" target=\"_parent\"><img src=\"https://colab.research.google.com/assets/colab-badge.svg\" alt=\"Open In Colab\"/></a>"
      ]
    },
    {
      "cell_type": "markdown",
      "metadata": {
        "id": "JVKlMWONCWRn"
      },
      "source": [
        "### Load in NumPy (remember to pip install numpy first)"
      ]
    },
    {
      "cell_type": "code",
      "execution_count": 1,
      "metadata": {
        "id": "idV7RcpCCWRq"
      },
      "outputs": [],
      "source": [
        "import numpy as np"
      ]
    },
    {
      "cell_type": "markdown",
      "metadata": {
        "id": "bcd196f6"
      },
      "source": [
        "### 🔍 Explanation:\n",
        "This code demonstrates a basic NumPy operation. Let’s break it down below:\n"
      ]
    },
    {
      "cell_type": "markdown",
      "metadata": {
        "id": "c4VMFtuTCWRs"
      },
      "source": [
        "### The Basics"
      ]
    },
    {
      "cell_type": "code",
      "execution_count": null,
      "metadata": {
        "id": "6RNyu4yRCWRs",
        "outputId": "d9e21aa9-8948-42bc-cb39-69d50def7a6e"
      },
      "outputs": [
        {
          "name": "stdout",
          "output_type": "stream",
          "text": [
            "[1 2 3]\n"
          ]
        }
      ],
      "source": [
        "a = np.array([1,2,3], dtype='int32')\n",
        "print(a)"
      ]
    },
    {
      "cell_type": "markdown",
      "metadata": {
        "id": "f48c753b"
      },
      "source": [
        "### 🔍 Explanation:\n",
        "This code demonstrates a basic NumPy operation. Let’s break it down below:\n",
        "- `np.array([...])` creates a NumPy array.\n",
        "- `dtype='int32'` sets the type of the array elements.\n"
      ]
    },
    {
      "cell_type": "code",
      "execution_count": null,
      "metadata": {
        "id": "_55lq8sYCWRu",
        "outputId": "a2ffeb68-e87c-4e8f-c262-039887e6edd3"
      },
      "outputs": [
        {
          "name": "stdout",
          "output_type": "stream",
          "text": [
            "[[9. 8. 7.]\n",
            " [6. 5. 4.]]\n"
          ]
        }
      ],
      "source": [
        "b = np.array([[9.0,8.0,7.0],[6.0,5.0,4.0]])\n",
        "print(b)"
      ]
    },
    {
      "cell_type": "markdown",
      "metadata": {
        "id": "b2f265bd"
      },
      "source": [
        "### 🔍 Explanation:\n",
        "This code demonstrates a basic NumPy operation. Let’s break it down below:\n",
        "- `np.array([...])` creates a NumPy array.\n"
      ]
    },
    {
      "cell_type": "code",
      "execution_count": null,
      "metadata": {
        "id": "65yQ__faCWRv",
        "outputId": "82276c22-0293-4ec7-9c8c-c4cb259f05b5"
      },
      "outputs": [
        {
          "data": {
            "text/plain": [
              "1"
            ]
          },
          "execution_count": 16,
          "metadata": {},
          "output_type": "execute_result"
        }
      ],
      "source": [
        "# Get Dimension\n",
        "a.ndim"
      ]
    },
    {
      "cell_type": "markdown",
      "metadata": {
        "id": "81122a07"
      },
      "source": [
        "### 🔍 Explanation:\n",
        "This code demonstrates a basic NumPy operation. Let’s break it down below:\n",
        "- `.ndim` returns the number of dimensions.\n"
      ]
    },
    {
      "cell_type": "code",
      "execution_count": null,
      "metadata": {
        "id": "3G0swXkjCWRw",
        "outputId": "4b40c224-db2d-4c1a-faea-dad67a5db27d"
      },
      "outputs": [
        {
          "data": {
            "text/plain": [
              "(2, 3)"
            ]
          },
          "execution_count": 18,
          "metadata": {},
          "output_type": "execute_result"
        }
      ],
      "source": [
        "# Get Shape\n",
        "b.shape"
      ]
    },
    {
      "cell_type": "markdown",
      "metadata": {
        "id": "0896cb73"
      },
      "source": [
        "### 🔍 Explanation:\n",
        "This code demonstrates a basic NumPy operation. Let’s break it down below:\n",
        "- `.shape` returns the dimensions of the array (rows, columns).\n"
      ]
    },
    {
      "cell_type": "code",
      "execution_count": null,
      "metadata": {
        "id": "rKW5nqy3CWRx",
        "outputId": "5ef59278-e48c-4129-d86a-b67340a23de9"
      },
      "outputs": [
        {
          "data": {
            "text/plain": [
              "dtype('int32')"
            ]
          },
          "execution_count": 32,
          "metadata": {},
          "output_type": "execute_result"
        }
      ],
      "source": [
        "# Get Type\n",
        "a.dtype"
      ]
    },
    {
      "cell_type": "markdown",
      "metadata": {
        "id": "cb5031b8"
      },
      "source": [
        "### 🔍 Explanation:\n",
        "This code demonstrates a basic NumPy operation. Let’s break it down below:\n",
        "- `dtype='int32'` sets the type of the array elements.\n"
      ]
    },
    {
      "cell_type": "code",
      "execution_count": null,
      "metadata": {
        "id": "6Ar9Fx8RCWRx",
        "outputId": "7f1f0ad5-b63a-4fa5-c331-f74d4f735aa3"
      },
      "outputs": [
        {
          "data": {
            "text/plain": [
              "4"
            ]
          },
          "execution_count": 31,
          "metadata": {},
          "output_type": "execute_result"
        }
      ],
      "source": [
        "# Get Size\n",
        "a.itemsize"
      ]
    },
    {
      "cell_type": "markdown",
      "metadata": {
        "id": "de9957dd"
      },
      "source": [
        "### 🔍 Explanation:\n",
        "This code demonstrates a basic NumPy operation. Let’s break it down below:\n",
        "- `.itemsize` returns the size in bytes of each element.\n"
      ]
    },
    {
      "cell_type": "code",
      "execution_count": null,
      "metadata": {
        "id": "r4ZACe_GCWRy",
        "outputId": "9a8c01aa-6513-46ae-e9a6-afcd22f4a4aa"
      },
      "outputs": [
        {
          "data": {
            "text/plain": [
              "12"
            ]
          },
          "execution_count": 29,
          "metadata": {},
          "output_type": "execute_result"
        }
      ],
      "source": [
        "# Get total size\n",
        "a.nbytes"
      ]
    },
    {
      "cell_type": "markdown",
      "metadata": {
        "id": "8a80169d"
      },
      "source": [
        "### 🔍 Explanation:\n",
        "This code demonstrates a basic NumPy operation. Let’s break it down below:\n",
        "- `.nbytes` returns the total memory consumed by the array.\n"
      ]
    },
    {
      "cell_type": "code",
      "execution_count": null,
      "metadata": {
        "id": "e7dJgPd6CWRy",
        "outputId": "675f3ffe-ac34-4fad-ba84-c462089ba0be"
      },
      "outputs": [
        {
          "data": {
            "text/plain": [
              "3"
            ]
          },
          "execution_count": 35,
          "metadata": {},
          "output_type": "execute_result"
        }
      ],
      "source": [
        "# Get number of elements\n",
        "a.size"
      ]
    },
    {
      "cell_type": "markdown",
      "metadata": {
        "id": "72e80c0e"
      },
      "source": [
        "### 🔍 Explanation:\n",
        "This code demonstrates a basic NumPy operation. Let’s break it down below:\n",
        "- `.size` gives the total number of elements.\n"
      ]
    },
    {
      "cell_type": "markdown",
      "metadata": {
        "id": "HJRercjGCWRz"
      },
      "source": [
        "### Accessing/Changing specific elements, rows, columns, etc"
      ]
    },
    {
      "cell_type": "code",
      "execution_count": 12,
      "metadata": {
        "colab": {
          "base_uri": "https://localhost:8080/"
        },
        "id": "GT2jWWnfCWRz",
        "outputId": "dfe4e0fe-5fcb-4ca0-c901-3ef555dcc4f3"
      },
      "outputs": [
        {
          "output_type": "stream",
          "name": "stdout",
          "text": [
            "[[ 1  2  3  4  5  6  7]\n",
            " [ 8  9 10 11 12 13 14]]\n"
          ]
        }
      ],
      "source": [
        "a = np.array([[1,2,3,4,5,6,7],[8,9,10,11,12,13,14]])\n",
        "print(a)"
      ]
    },
    {
      "cell_type": "markdown",
      "metadata": {
        "id": "7703034a"
      },
      "source": [
        "### 🔍 Explanation:\n",
        "This code demonstrates a basic NumPy operation. Let’s break it down below:\n",
        "- `np.array([...])` creates a NumPy array.\n"
      ]
    },
    {
      "cell_type": "code",
      "execution_count": null,
      "metadata": {
        "id": "IbasIvCbCWRz",
        "outputId": "32c0ea48-ee14-4fe3-ec9b-af8c8cc348cf"
      },
      "outputs": [
        {
          "data": {
            "text/plain": [
              "13"
            ]
          },
          "execution_count": 14,
          "metadata": {},
          "output_type": "execute_result"
        }
      ],
      "source": [
        "# Get a specific element [r, c]\n",
        "a[1, 5]"
      ]
    },
    {
      "cell_type": "markdown",
      "metadata": {
        "id": "2c049893"
      },
      "source": [
        "### 🔍 Explanation:\n",
        "This code demonstrates a basic NumPy operation. Let’s break it down below:\n"
      ]
    },
    {
      "cell_type": "code",
      "execution_count": null,
      "metadata": {
        "id": "G1DT05u-CWR0",
        "outputId": "baf11d05-17da-44cd-f05a-33bdf9922226"
      },
      "outputs": [
        {
          "data": {
            "text/plain": [
              "array([1, 2, 3, 4, 5, 6, 7])"
            ]
          },
          "execution_count": 15,
          "metadata": {},
          "output_type": "execute_result"
        }
      ],
      "source": [
        "# Get a specific row\n",
        "a[0, :]"
      ]
    },
    {
      "cell_type": "markdown",
      "metadata": {
        "id": "0628cf12"
      },
      "source": [
        "### 🔍 Explanation:\n",
        "This code demonstrates a basic NumPy operation. Let’s break it down below:\n"
      ]
    },
    {
      "cell_type": "code",
      "execution_count": null,
      "metadata": {
        "id": "s5Id0qWyCWR0",
        "outputId": "f3022470-3341-4d58-cbb8-9fb21f0571b4"
      },
      "outputs": [
        {
          "data": {
            "text/plain": [
              "array([ 3, 10])"
            ]
          },
          "execution_count": 16,
          "metadata": {},
          "output_type": "execute_result"
        }
      ],
      "source": [
        "# Get a specific column\n",
        "a[:, 2]"
      ]
    },
    {
      "cell_type": "markdown",
      "metadata": {
        "id": "a09c23e6"
      },
      "source": [
        "### 🔍 Explanation:\n",
        "This code demonstrates a basic NumPy operation. Let’s break it down below:\n"
      ]
    },
    {
      "cell_type": "code",
      "execution_count": null,
      "metadata": {
        "id": "klDosMZnCWR0",
        "outputId": "8e181dfa-5d8e-43dd-f393-719094f54c5d"
      },
      "outputs": [
        {
          "data": {
            "text/plain": [
              "array([2, 4, 6])"
            ]
          },
          "execution_count": 20,
          "metadata": {},
          "output_type": "execute_result"
        }
      ],
      "source": [
        "# Getting a little more fancy [startindex:endindex:stepsize]\n",
        "a[0, 1:-1:2]"
      ]
    },
    {
      "cell_type": "markdown",
      "metadata": {
        "id": "127296d8"
      },
      "source": [
        "### 🔍 Explanation:\n",
        "This code demonstrates a basic NumPy operation. Let’s break it down below:\n"
      ]
    },
    {
      "cell_type": "code",
      "execution_count": null,
      "metadata": {
        "id": "Nqi6R9y7CWR1",
        "outputId": "99b94f3b-0ee1-44f0-ff04-181f027b0152"
      },
      "outputs": [
        {
          "name": "stdout",
          "output_type": "stream",
          "text": [
            "[[ 1  2  5  4  5  6  7]\n",
            " [ 8  9  5 11 12 20 14]]\n",
            "[[ 1  2  1  4  5  6  7]\n",
            " [ 8  9  2 11 12 20 14]]\n"
          ]
        }
      ],
      "source": [
        "a[1,5] = 20\n",
        "\n",
        "a[:,2] = [1,2]\n",
        "print(a)"
      ]
    },
    {
      "cell_type": "markdown",
      "metadata": {
        "id": "d11f0c44"
      },
      "source": [
        "### 🔍 Explanation:\n",
        "This code demonstrates a basic NumPy operation. Let’s break it down below:\n"
      ]
    },
    {
      "cell_type": "markdown",
      "metadata": {
        "id": "PYJt3nd_CWR2"
      },
      "source": [
        "*3-d example"
      ]
    },
    {
      "cell_type": "code",
      "execution_count": 2,
      "metadata": {
        "colab": {
          "base_uri": "https://localhost:8080/"
        },
        "id": "4KeXtBplCWR2",
        "outputId": "e1b0f56b-5151-4bb9-87a6-cfa02b2c7393"
      },
      "outputs": [
        {
          "output_type": "stream",
          "name": "stdout",
          "text": [
            "[[[1 2]\n",
            "  [3 4]]\n",
            "\n",
            " [[5 6]\n",
            "  [7 8]]]\n"
          ]
        }
      ],
      "source": [
        "b = np.array([[[1,2],[3,4]],[[5,6],[7,8]]])\n",
        "print(b)"
      ]
    },
    {
      "cell_type": "markdown",
      "metadata": {
        "id": "59f6bc71"
      },
      "source": [
        "### 🔍 Explanation:\n",
        "This code demonstrates a basic NumPy operation. Let’s break it down below:\n",
        "- `np.array([...])` creates a NumPy array.\n"
      ]
    },
    {
      "cell_type": "code",
      "execution_count": 4,
      "metadata": {
        "colab": {
          "base_uri": "https://localhost:8080/"
        },
        "id": "QNLDmmMCCWR2",
        "outputId": "b1d24efa-e89f-4ae9-b2e9-5928885c2eec"
      },
      "outputs": [
        {
          "output_type": "execute_result",
          "data": {
            "text/plain": [
              "np.int64(4)"
            ]
          },
          "metadata": {},
          "execution_count": 4
        }
      ],
      "source": [
        "# Get specific element (work outside in)\n",
        "b[0,1,1]"
      ]
    },
    {
      "cell_type": "markdown",
      "metadata": {
        "id": "8a660c3f"
      },
      "source": [
        "### 🔍 Explanation:\n",
        "This code demonstrates a basic NumPy operation. Let’s break it down below:\n"
      ]
    },
    {
      "cell_type": "code",
      "execution_count": null,
      "metadata": {
        "id": "odpCpcr-CWR3",
        "outputId": "fa263ddd-e1a8-4f73-a559-9076bda28c57"
      },
      "outputs": [
        {
          "ename": "ValueError",
          "evalue": "setting an array element with a sequence.",
          "output_type": "error",
          "traceback": [
            "\u001b[1;31m---------------------------------------------------------------------------\u001b[0m",
            "\u001b[1;31mValueError\u001b[0m                                Traceback (most recent call last)",
            "\u001b[1;32m<ipython-input-34-db1aebb5daad>\u001b[0m in \u001b[0;36m<module>\u001b[1;34m()\u001b[0m\n\u001b[0;32m      1\u001b[0m \u001b[1;31m# replace\u001b[0m\u001b[1;33m\u001b[0m\u001b[1;33m\u001b[0m\u001b[0m\n\u001b[1;32m----> 2\u001b[1;33m \u001b[0mb\u001b[0m\u001b[1;33m[\u001b[0m\u001b[1;33m:\u001b[0m\u001b[1;33m,\u001b[0m\u001b[1;36m1\u001b[0m\u001b[1;33m,\u001b[0m\u001b[1;33m:\u001b[0m\u001b[1;33m]\u001b[0m \u001b[1;33m=\u001b[0m \u001b[1;33m[\u001b[0m\u001b[1;33m[\u001b[0m\u001b[1;36m9\u001b[0m\u001b[1;33m,\u001b[0m\u001b[1;36m9\u001b[0m\u001b[1;33m,\u001b[0m\u001b[1;36m9\u001b[0m\u001b[1;33m]\u001b[0m\u001b[1;33m,\u001b[0m\u001b[1;33m[\u001b[0m\u001b[1;36m8\u001b[0m\u001b[1;33m,\u001b[0m\u001b[1;36m8\u001b[0m\u001b[1;33m]\u001b[0m\u001b[1;33m]\u001b[0m\u001b[1;33m\u001b[0m\u001b[0m\n\u001b[0m",
            "\u001b[1;31mValueError\u001b[0m: setting an array element with a sequence."
          ]
        }
      ],
      "source": [
        "# replace\n",
        "b[:,1,:] = [[9,9,9],[8,8]]"
      ]
    },
    {
      "cell_type": "markdown",
      "metadata": {
        "id": "9a37079a"
      },
      "source": [
        "### 🔍 Explanation:\n",
        "This code demonstrates a basic NumPy operation. Let’s break it down below:\n"
      ]
    },
    {
      "cell_type": "code",
      "execution_count": null,
      "metadata": {
        "id": "CMpjf0YrCWR5",
        "outputId": "1d503fd8-b8c9-4535-f4fb-421c378c625b"
      },
      "outputs": [
        {
          "data": {
            "text/plain": [
              "array([[[1, 2],\n",
              "        [9, 9]],\n",
              "\n",
              "       [[5, 6],\n",
              "        [8, 8]]])"
            ]
          },
          "execution_count": 33,
          "metadata": {},
          "output_type": "execute_result"
        }
      ],
      "source": [
        "b"
      ]
    },
    {
      "cell_type": "markdown",
      "metadata": {
        "id": "b4893197"
      },
      "source": [
        "### 🔍 Explanation:\n",
        "This code demonstrates a basic NumPy operation. Let’s break it down below:\n"
      ]
    },
    {
      "cell_type": "markdown",
      "metadata": {
        "id": "ZmMApUzyCWR5"
      },
      "source": [
        "### Initializing Different Types of Arrays"
      ]
    },
    {
      "cell_type": "code",
      "execution_count": null,
      "metadata": {
        "id": "wtg1OIb0CWR5",
        "outputId": "cc362b78-598d-42d8-f360-bdf991feef75"
      },
      "outputs": [
        {
          "data": {
            "text/plain": [
              "array([[0., 0., 0.],\n",
              "       [0., 0., 0.]])"
            ]
          },
          "execution_count": 40,
          "metadata": {},
          "output_type": "execute_result"
        }
      ],
      "source": [
        "# All 0s matrix\n",
        "np.zeros((2,3))"
      ]
    },
    {
      "cell_type": "markdown",
      "metadata": {
        "id": "96cc2ea2"
      },
      "source": [
        "### 🔍 Explanation:\n",
        "This code demonstrates a basic NumPy operation. Let’s break it down below:\n",
        "- `np.zeros()` creates an array filled with 0s.\n"
      ]
    },
    {
      "cell_type": "code",
      "execution_count": 5,
      "metadata": {
        "colab": {
          "base_uri": "https://localhost:8080/"
        },
        "id": "vwSiS37_CWR6",
        "outputId": "ac38d8d3-add9-4572-a9cf-6cb171a6d961"
      },
      "outputs": [
        {
          "output_type": "execute_result",
          "data": {
            "text/plain": [
              "array([[[1, 1],\n",
              "        [1, 1]],\n",
              "\n",
              "       [[1, 1],\n",
              "        [1, 1]],\n",
              "\n",
              "       [[1, 1],\n",
              "        [1, 1]],\n",
              "\n",
              "       [[1, 1],\n",
              "        [1, 1]]], dtype=int32)"
            ]
          },
          "metadata": {},
          "execution_count": 5
        }
      ],
      "source": [
        "# All 1s matrix\n",
        "np.ones((4,2,2), dtype='int32')"
      ]
    },
    {
      "cell_type": "markdown",
      "metadata": {
        "id": "1208bcfa"
      },
      "source": [
        "### 🔍 Explanation:\n",
        "This code demonstrates a basic NumPy operation. Let’s break it down below:\n",
        "- `dtype='int32'` sets the type of the array elements.\n",
        "- `np.ones()` creates an array filled with 1s.\n"
      ]
    },
    {
      "cell_type": "code",
      "execution_count": 8,
      "metadata": {
        "id": "oLKrkCjoCWR6"
      },
      "outputs": [],
      "source": [
        "# Any other number\n",
        "s= np.full((3,2,2), 99)"
      ]
    },
    {
      "cell_type": "code",
      "source": [
        "s"
      ],
      "metadata": {
        "colab": {
          "base_uri": "https://localhost:8080/"
        },
        "id": "Av5SyJ2rED71",
        "outputId": "efb401e1-e6db-40b1-d37a-fd7cbb85af56"
      },
      "execution_count": 10,
      "outputs": [
        {
          "output_type": "execute_result",
          "data": {
            "text/plain": [
              "array([[[99, 99],\n",
              "        [99, 99]],\n",
              "\n",
              "       [[99, 99],\n",
              "        [99, 99]],\n",
              "\n",
              "       [[99, 99],\n",
              "        [99, 99]]])"
            ]
          },
          "metadata": {},
          "execution_count": 10
        }
      ]
    },
    {
      "cell_type": "markdown",
      "metadata": {
        "id": "145e3fd3"
      },
      "source": [
        "### 🔍 Explanation:\n",
        "This code demonstrates a basic NumPy operation. Let’s break it down below:\n",
        "- `np.full()` creates an array filled with a specified value.\n"
      ]
    },
    {
      "cell_type": "code",
      "execution_count": 13,
      "metadata": {
        "colab": {
          "base_uri": "https://localhost:8080/"
        },
        "id": "ycoI6FMYCWR7",
        "outputId": "1e5d6a0f-4071-4e7f-8576-dda6ee387ba4"
      },
      "outputs": [
        {
          "output_type": "execute_result",
          "data": {
            "text/plain": [
              "array([[4, 4, 4, 4, 4, 4, 4],\n",
              "       [4, 4, 4, 4, 4, 4, 4]])"
            ]
          },
          "metadata": {},
          "execution_count": 13
        }
      ],
      "source": [
        "# Any other number (full_like)\n",
        "np.full_like(a, 4)"
      ]
    },
    {
      "cell_type": "markdown",
      "metadata": {
        "id": "296d8fa8"
      },
      "source": [
        "### 🔍 Explanation:\n",
        "This code demonstrates a basic NumPy operation. Let’s break it down below:\n",
        "- `np.full()` creates an array filled with a specified value.\n"
      ]
    },
    {
      "cell_type": "code",
      "execution_count": null,
      "metadata": {
        "id": "XluklIjKCWR8",
        "outputId": "dbb00304-cd4c-42fc-9940-3e0783df0049"
      },
      "outputs": [
        {
          "data": {
            "text/plain": [
              "array([[0.07805642, 0.53385716],\n",
              "       [0.02494273, 0.99955252],\n",
              "       [0.48588042, 0.91247437],\n",
              "       [0.27779213, 0.16597751]])"
            ]
          },
          "execution_count": 56,
          "metadata": {},
          "output_type": "execute_result"
        }
      ],
      "source": [
        "# Random decimal numbers\n",
        "np.random.rand(4,2)"
      ]
    },
    {
      "cell_type": "markdown",
      "metadata": {
        "id": "ad6cef9e"
      },
      "source": [
        "### 🔍 Explanation:\n",
        "This code demonstrates a basic NumPy operation. Let’s break it down below:\n",
        "- `np.random.rand()` generates an array with random floats between 0 and 1.\n"
      ]
    },
    {
      "cell_type": "code",
      "execution_count": null,
      "metadata": {
        "id": "V7ZcnQkWCWR8",
        "outputId": "a6a24dba-ea6d-46f3-bab0-1908180cf675"
      },
      "outputs": [
        {
          "data": {
            "text/plain": [
              "array([[-2, -4, -4],\n",
              "       [ 6,  6,  3],\n",
              "       [ 3,  2,  2]])"
            ]
          },
          "execution_count": 73,
          "metadata": {},
          "output_type": "execute_result"
        }
      ],
      "source": [
        "# Random Integer values\n",
        "np.random.randint(-4,8, size=(3,3))"
      ]
    },
    {
      "cell_type": "markdown",
      "metadata": {
        "id": "b909a536"
      },
      "source": [
        "### 🔍 Explanation:\n",
        "This code demonstrates a basic NumPy operation. Let’s break it down below:\n",
        "- `np.random.rand()` generates an array with random floats between 0 and 1.\n",
        "- `np.random.randint()` generates random integers in a given range.\n"
      ]
    },
    {
      "cell_type": "code",
      "execution_count": 17,
      "metadata": {
        "colab": {
          "base_uri": "https://localhost:8080/"
        },
        "id": "grBk9yfHCWR9",
        "outputId": "b4a0c42b-d622-420d-bc50-3ec8b3fba0be"
      },
      "outputs": [
        {
          "output_type": "execute_result",
          "data": {
            "text/plain": [
              "array([[1., 0., 0., 0., 0., 0.],\n",
              "       [0., 1., 0., 0., 0., 0.],\n",
              "       [0., 0., 1., 0., 0., 0.],\n",
              "       [0., 0., 0., 1., 0., 0.],\n",
              "       [0., 0., 0., 0., 1., 0.],\n",
              "       [0., 0., 0., 0., 0., 1.]])"
            ]
          },
          "metadata": {},
          "execution_count": 17
        }
      ],
      "source": [
        "# The identity matrix\n",
        "np.identity(6)"
      ]
    },
    {
      "cell_type": "markdown",
      "metadata": {
        "id": "99f7fe50"
      },
      "source": [
        "### 🔍 Explanation:\n",
        "This code demonstrates a basic NumPy operation. Let’s break it down below:\n",
        "- `np.identity()` creates an identity matrix.\n"
      ]
    },
    {
      "cell_type": "code",
      "execution_count": 18,
      "metadata": {
        "colab": {
          "base_uri": "https://localhost:8080/"
        },
        "id": "A7qLhyb0CWR9",
        "outputId": "011c0e8d-7a6b-4a71-f8e6-4904bbac548e"
      },
      "outputs": [
        {
          "output_type": "stream",
          "name": "stdout",
          "text": [
            "[[1 2 3]\n",
            " [1 2 3]\n",
            " [1 2 3]]\n"
          ]
        }
      ],
      "source": [
        "# Repeat an array\n",
        "arr = np.array([[1,2,3]])\n",
        "r1 = np.repeat(arr,3, axis=0)\n",
        "print(r1)"
      ]
    },
    {
      "cell_type": "markdown",
      "metadata": {
        "id": "f61f00a0"
      },
      "source": [
        "### 🔍 Explanation:\n",
        "This code demonstrates a basic NumPy operation. Let’s break it down below:\n",
        "- `np.array([...])` creates a NumPy array.\n"
      ]
    },
    {
      "cell_type": "code",
      "execution_count": null,
      "metadata": {
        "id": "YgrFLCiUCWR9",
        "outputId": "f9408455-7ca1-4e44-aabb-fb1352a72dcd"
      },
      "outputs": [
        {
          "name": "stdout",
          "output_type": "stream",
          "text": [
            "[[1. 1. 1. 1. 1.]\n",
            " [1. 1. 1. 1. 1.]\n",
            " [1. 1. 1. 1. 1.]\n",
            " [1. 1. 1. 1. 1.]\n",
            " [1. 1. 1. 1. 1.]]\n",
            "[[0. 0. 0.]\n",
            " [0. 9. 0.]\n",
            " [0. 0. 0.]]\n",
            "[[1. 1. 1. 1. 1.]\n",
            " [1. 0. 0. 0. 1.]\n",
            " [1. 0. 9. 0. 1.]\n",
            " [1. 0. 0. 0. 1.]\n",
            " [1. 1. 1. 1. 1.]]\n"
          ]
        }
      ],
      "source": [
        "output = np.ones((5,5))\n",
        "print(output)\n",
        "\n",
        "z = np.zeros((3,3))\n",
        "z[1,1] = 9\n",
        "print(z)\n",
        "\n",
        "output[1:-1,1:-1] = z\n",
        "print(output)"
      ]
    },
    {
      "cell_type": "markdown",
      "metadata": {
        "id": "f5780605"
      },
      "source": [
        "### 🔍 Explanation:\n",
        "This code demonstrates a basic NumPy operation. Let’s break it down below:\n",
        "- `np.zeros()` creates an array filled with 0s.\n",
        "- `np.ones()` creates an array filled with 1s.\n"
      ]
    },
    {
      "cell_type": "markdown",
      "metadata": {
        "id": "xvpsI4q0CWR-"
      },
      "source": [
        "##### Be careful when copying arrays!!!"
      ]
    },
    {
      "cell_type": "code",
      "execution_count": null,
      "metadata": {
        "id": "fJCpWBerCWR-",
        "outputId": "c624c107-a5c9-4e78-92a6-3d26e7bac265"
      },
      "outputs": [
        {
          "name": "stdout",
          "output_type": "stream",
          "text": [
            "[1 2 3]\n"
          ]
        }
      ],
      "source": [
        "a = np.array([1,2,3])\n",
        "b = a.copy()\n",
        "b[0] = 100\n",
        "\n",
        "print(a)"
      ]
    },
    {
      "cell_type": "markdown",
      "metadata": {
        "id": "e4798b38"
      },
      "source": [
        "### 🔍 Explanation:\n",
        "This code demonstrates a basic NumPy operation. Let’s break it down below:\n",
        "- `np.array([...])` creates a NumPy array.\n"
      ]
    },
    {
      "cell_type": "markdown",
      "metadata": {
        "id": "ZmQ4KHLmCWR-"
      },
      "source": [
        "### Mathematics"
      ]
    },
    {
      "cell_type": "code",
      "execution_count": null,
      "metadata": {
        "id": "5oGtDXPjCWR-",
        "outputId": "c3eb9ece-88bd-4bb7-fbef-6226fc69d199"
      },
      "outputs": [
        {
          "name": "stdout",
          "output_type": "stream",
          "text": [
            "[1 2 3 4]\n"
          ]
        }
      ],
      "source": [
        "a = np.array([1,2,3,4])\n",
        "print(a)"
      ]
    },
    {
      "cell_type": "markdown",
      "metadata": {
        "id": "45d89514"
      },
      "source": [
        "### 🔍 Explanation:\n",
        "This code demonstrates a basic NumPy operation. Let’s break it down below:\n",
        "- `np.array([...])` creates a NumPy array.\n"
      ]
    },
    {
      "cell_type": "code",
      "execution_count": null,
      "metadata": {
        "id": "vDz37pc4CWR_",
        "outputId": "fcb4a08f-8057-4448-abde-9db2b6b49317"
      },
      "outputs": [
        {
          "data": {
            "text/plain": [
              "array([5, 6, 7, 8])"
            ]
          },
          "execution_count": 109,
          "metadata": {},
          "output_type": "execute_result"
        }
      ],
      "source": [
        "a + 2"
      ]
    },
    {
      "cell_type": "markdown",
      "metadata": {
        "id": "0b793103"
      },
      "source": [
        "### 🔍 Explanation:\n",
        "This code demonstrates a basic NumPy operation. Let’s break it down below:\n"
      ]
    },
    {
      "cell_type": "code",
      "execution_count": null,
      "metadata": {
        "id": "feP4LGotCWR_",
        "outputId": "bd1c5615-7661-4a7d-f227-65f9877bc00e"
      },
      "outputs": [
        {
          "data": {
            "text/plain": [
              "array([-1,  0,  1,  2])"
            ]
          },
          "execution_count": 102,
          "metadata": {},
          "output_type": "execute_result"
        }
      ],
      "source": [
        "a - 2"
      ]
    },
    {
      "cell_type": "markdown",
      "metadata": {
        "id": "51b34533"
      },
      "source": [
        "### 🔍 Explanation:\n",
        "This code demonstrates a basic NumPy operation. Let’s break it down below:\n"
      ]
    },
    {
      "cell_type": "code",
      "execution_count": null,
      "metadata": {
        "id": "zoiyFc7CCWR_",
        "outputId": "59c9fbad-f296-42da-d7bd-492da265c391"
      },
      "outputs": [
        {
          "data": {
            "text/plain": [
              "array([2, 4, 6, 8])"
            ]
          },
          "execution_count": 103,
          "metadata": {},
          "output_type": "execute_result"
        }
      ],
      "source": [
        "a * 2"
      ]
    },
    {
      "cell_type": "markdown",
      "metadata": {
        "id": "4568431e"
      },
      "source": [
        "### 🔍 Explanation:\n",
        "This code demonstrates a basic NumPy operation. Let’s break it down below:\n"
      ]
    },
    {
      "cell_type": "code",
      "execution_count": null,
      "metadata": {
        "id": "O9yOFFGxCWSA",
        "outputId": "7c553f84-a676-400d-fa83-9b271d957809"
      },
      "outputs": [
        {
          "data": {
            "text/plain": [
              "array([0.5, 1. , 1.5, 2. ])"
            ]
          },
          "execution_count": 104,
          "metadata": {},
          "output_type": "execute_result"
        }
      ],
      "source": [
        "a / 2"
      ]
    },
    {
      "cell_type": "markdown",
      "metadata": {
        "id": "ca10cc19"
      },
      "source": [
        "### 🔍 Explanation:\n",
        "This code demonstrates a basic NumPy operation. Let’s break it down below:\n"
      ]
    },
    {
      "cell_type": "code",
      "execution_count": null,
      "metadata": {
        "id": "6iUmkFbRCWSA",
        "outputId": "ccce86ea-4d59-40c0-9f53-35874971aae1"
      },
      "outputs": [
        {
          "data": {
            "text/plain": [
              "array([1, 0, 3, 0])"
            ]
          },
          "execution_count": 118,
          "metadata": {},
          "output_type": "execute_result"
        }
      ],
      "source": [
        "b = np.array([1,0,1,0])\n",
        "a + b"
      ]
    },
    {
      "cell_type": "markdown",
      "metadata": {
        "id": "bdae6de0"
      },
      "source": [
        "### 🔍 Explanation:\n",
        "This code demonstrates a basic NumPy operation. Let’s break it down below:\n",
        "- `np.array([...])` creates a NumPy array.\n"
      ]
    },
    {
      "cell_type": "code",
      "execution_count": null,
      "metadata": {
        "id": "G6hi6oPECWSA",
        "outputId": "a6d54e8b-169c-423b-fb43-f95a6aa900c0"
      },
      "outputs": [
        {
          "data": {
            "text/plain": [
              "array([ 1,  4,  9, 16], dtype=int32)"
            ]
          },
          "execution_count": 113,
          "metadata": {},
          "output_type": "execute_result"
        }
      ],
      "source": [
        "a ** 2"
      ]
    },
    {
      "cell_type": "markdown",
      "metadata": {
        "id": "75f53c6e"
      },
      "source": [
        "### 🔍 Explanation:\n",
        "This code demonstrates a basic NumPy operation. Let’s break it down below:\n"
      ]
    },
    {
      "cell_type": "code",
      "execution_count": null,
      "metadata": {
        "id": "Ou8tPdS6CWSA",
        "outputId": "62748c96-146d-4ad7-b6b7-da5c15af47d9"
      },
      "outputs": [
        {
          "data": {
            "text/plain": [
              "array([ 0.54030231, -0.41614684, -0.9899925 , -0.65364362])"
            ]
          },
          "execution_count": 116,
          "metadata": {},
          "output_type": "execute_result"
        }
      ],
      "source": [
        "# Take the sin\n",
        "np.cos(a)\n",
        "\n"
      ]
    },
    {
      "cell_type": "markdown",
      "metadata": {
        "id": "583eeba5"
      },
      "source": [
        "### 🔍 Explanation:\n",
        "This code demonstrates a basic NumPy operation. Let’s break it down below:\n"
      ]
    },
    {
      "cell_type": "code",
      "execution_count": null,
      "metadata": {
        "id": "ADtRa8thCWSB"
      },
      "outputs": [],
      "source": [
        "# For a lot more (https://docs.scipy.org/doc/numpy/reference/routines.math.html)"
      ]
    },
    {
      "cell_type": "markdown",
      "metadata": {
        "id": "882ce091"
      },
      "source": [
        "### 🔍 Explanation:\n",
        "This code demonstrates a basic NumPy operation. Let’s break it down below:\n"
      ]
    },
    {
      "cell_type": "markdown",
      "metadata": {
        "id": "8DxJdVxnCWSB"
      },
      "source": [
        "##### Linear Algebra"
      ]
    },
    {
      "cell_type": "code",
      "execution_count": null,
      "metadata": {
        "id": "-gAbfPDvCWSB",
        "outputId": "e2484fee-2b27-4288-8f94-03a19ce4b4b7"
      },
      "outputs": [
        {
          "name": "stdout",
          "output_type": "stream",
          "text": [
            "[[1. 1. 1.]\n",
            " [1. 1. 1.]]\n",
            "[[2 2]\n",
            " [2 2]\n",
            " [2 2]]\n"
          ]
        },
        {
          "data": {
            "text/plain": [
              "array([[6., 6.],\n",
              "       [6., 6.]])"
            ]
          },
          "execution_count": 127,
          "metadata": {},
          "output_type": "execute_result"
        }
      ],
      "source": [
        "a = np.ones((2,3))\n",
        "print(a)\n",
        "\n",
        "b = np.full((3,2), 2)\n",
        "print(b)\n",
        "\n",
        "np.matmul(a,b)"
      ]
    },
    {
      "cell_type": "markdown",
      "metadata": {
        "id": "fafff4ff"
      },
      "source": [
        "### 🔍 Explanation:\n",
        "This code demonstrates a basic NumPy operation. Let’s break it down below:\n",
        "- `np.ones()` creates an array filled with 1s.\n",
        "- `np.full()` creates an array filled with a specified value.\n",
        "- `np.matmul()` performs matrix multiplication.\n"
      ]
    },
    {
      "cell_type": "code",
      "execution_count": null,
      "metadata": {
        "id": "ElRe1icbCWSC",
        "outputId": "0912d3e5-6602-4e4b-c24c-4a90aecd4949"
      },
      "outputs": [
        {
          "data": {
            "text/plain": [
              "1.0"
            ]
          },
          "execution_count": 132,
          "metadata": {},
          "output_type": "execute_result"
        }
      ],
      "source": [
        "# Find the determinant\n",
        "c = np.identity(3)\n",
        "np.linalg.det(c)"
      ]
    },
    {
      "cell_type": "markdown",
      "metadata": {
        "id": "0996998a"
      },
      "source": [
        "### 🔍 Explanation:\n",
        "This code demonstrates a basic NumPy operation. Let’s break it down below:\n",
        "- `np.identity()` creates an identity matrix.\n",
        "- `np.linalg.det()` calculates the determinant of a matrix.\n"
      ]
    },
    {
      "cell_type": "code",
      "execution_count": null,
      "metadata": {
        "id": "bVwTehA2CWSC"
      },
      "outputs": [],
      "source": [
        "## Reference docs (https://docs.scipy.org/doc/numpy/reference/routines.linalg.html)\n",
        "\n",
        "# Determinant\n",
        "# Trace\n",
        "# Singular Vector Decomposition\n",
        "# Eigenvalues\n",
        "# Matrix Norm\n",
        "# Inverse\n",
        "# Etc..."
      ]
    },
    {
      "cell_type": "markdown",
      "metadata": {
        "id": "0058aa22"
      },
      "source": [
        "### 🔍 Explanation:\n",
        "This code demonstrates a basic NumPy operation. Let’s break it down below:\n"
      ]
    },
    {
      "cell_type": "markdown",
      "metadata": {
        "id": "w55A56qBCWSD"
      },
      "source": [
        "##### Statistics"
      ]
    },
    {
      "cell_type": "code",
      "execution_count": 19,
      "metadata": {
        "colab": {
          "base_uri": "https://localhost:8080/"
        },
        "id": "wDjr6_vaCWSD",
        "outputId": "a8bd9897-3893-43d4-ecfd-f242ed4cfe6c"
      },
      "outputs": [
        {
          "output_type": "execute_result",
          "data": {
            "text/plain": [
              "array([[1, 2, 3],\n",
              "       [4, 5, 6]])"
            ]
          },
          "metadata": {},
          "execution_count": 19
        }
      ],
      "source": [
        "stats = np.array([[1,2,3],[4,5,6]])\n",
        "stats"
      ]
    },
    {
      "cell_type": "markdown",
      "metadata": {
        "id": "169ab0bc"
      },
      "source": [
        "### 🔍 Explanation:\n",
        "This code demonstrates a basic NumPy operation. Let’s break it down below:\n",
        "- `np.array([...])` creates a NumPy array.\n"
      ]
    },
    {
      "cell_type": "code",
      "execution_count": 20,
      "metadata": {
        "colab": {
          "base_uri": "https://localhost:8080/"
        },
        "id": "AUX-s4U6CWSD",
        "outputId": "3760c5ec-ddae-4868-af46-ef558c661320"
      },
      "outputs": [
        {
          "output_type": "execute_result",
          "data": {
            "text/plain": [
              "np.int64(1)"
            ]
          },
          "metadata": {},
          "execution_count": 20
        }
      ],
      "source": [
        "np.min(stats)"
      ]
    },
    {
      "cell_type": "markdown",
      "metadata": {
        "id": "3e577b8b"
      },
      "source": [
        "### 🔍 Explanation:\n",
        "This code demonstrates a basic NumPy operation. Let’s break it down below:\n",
        "- `np.min()` gets the minimum value.\n"
      ]
    },
    {
      "cell_type": "code",
      "execution_count": 22,
      "metadata": {
        "colab": {
          "base_uri": "https://localhost:8080/"
        },
        "id": "t5CC1c7BCWSE",
        "outputId": "9aa7273d-1612-4084-8a5d-66a811ac7e12"
      },
      "outputs": [
        {
          "output_type": "execute_result",
          "data": {
            "text/plain": [
              "array([3, 6])"
            ]
          },
          "metadata": {},
          "execution_count": 22
        }
      ],
      "source": [
        "np.max(stats, axis=1)"
      ]
    },
    {
      "cell_type": "markdown",
      "metadata": {
        "id": "b7564a08"
      },
      "source": [
        "### 🔍 Explanation:\n",
        "This code demonstrates a basic NumPy operation. Let’s break it down below:\n",
        "- `np.max()` gets the maximum value.\n"
      ]
    },
    {
      "cell_type": "code",
      "execution_count": 29,
      "metadata": {
        "colab": {
          "base_uri": "https://localhost:8080/"
        },
        "id": "08JvhgW2CWSE",
        "outputId": "4fdab3d5-9cb9-427d-9af8-e9a2132ffecf"
      },
      "outputs": [
        {
          "output_type": "stream",
          "name": "stdout",
          "text": [
            "[5 7 9]\n",
            "[[1 2 3]\n",
            " [4 5 6]]\n"
          ]
        }
      ],
      "source": [
        "print(np.sum(stats, axis=0))\n",
        "print(stats)"
      ]
    },
    {
      "cell_type": "markdown",
      "metadata": {
        "id": "2c4585fc"
      },
      "source": [
        "### 🔍 Explanation:\n",
        "This code demonstrates a basic NumPy operation. Let’s break it down below:\n",
        "- `np.sum()` sums elements of an array.\n"
      ]
    },
    {
      "cell_type": "markdown",
      "metadata": {
        "id": "d4Nj6B57CWSE"
      },
      "source": [
        "### Reorganizing Arrays"
      ]
    },
    {
      "cell_type": "code",
      "execution_count": 32,
      "metadata": {
        "colab": {
          "base_uri": "https://localhost:8080/"
        },
        "id": "NZuTr6JzCWSE",
        "outputId": "5d42bbd4-97c2-4051-d1b2-2915d585efc3"
      },
      "outputs": [
        {
          "output_type": "stream",
          "name": "stdout",
          "text": [
            "[[1 2 3 4]\n",
            " [5 6 7 8]]\n",
            "[[1 2 3 4]\n",
            " [5 6 7 8]]\n"
          ]
        }
      ],
      "source": [
        "before = np.array([[1,2,3,4],[5,6,7,8]])\n",
        "print(before)\n",
        "\n",
        "after = before.reshape((2,4))\n",
        "print(after)"
      ]
    },
    {
      "cell_type": "markdown",
      "metadata": {
        "id": "971ed26b"
      },
      "source": [
        "### 🔍 Explanation:\n",
        "This code demonstrates a basic NumPy operation. Let’s break it down below:\n",
        "- `np.array([...])` creates a NumPy array.\n",
        "- `.reshape()` changes the shape of the array without changing its data.\n"
      ]
    },
    {
      "cell_type": "code",
      "execution_count": null,
      "metadata": {
        "id": "yaqHkGarCWSE",
        "outputId": "25fdfe34-9e60-4ac4-8ad0-df55fe1b3aff"
      },
      "outputs": [
        {
          "data": {
            "text/plain": [
              "array([[1, 2, 3, 4],\n",
              "       [5, 6, 7, 8],\n",
              "       [1, 2, 3, 4],\n",
              "       [5, 6, 7, 8]])"
            ]
          },
          "execution_count": 158,
          "metadata": {},
          "output_type": "execute_result"
        }
      ],
      "source": [
        "# Vertically stacking vectors\n",
        "v1 = np.array([1,2,3,4])\n",
        "v2 = np.array([5,6,7,8])\n",
        "\n",
        "np.vstack([v1,v2,v1,v2])"
      ]
    },
    {
      "cell_type": "markdown",
      "metadata": {
        "id": "5f001c18"
      },
      "source": [
        "### 🔍 Explanation:\n",
        "This code demonstrates a basic NumPy operation. Let’s break it down below:\n",
        "- `np.array([...])` creates a NumPy array.\n",
        "- `np.vstack()` vertically stacks arrays.\n"
      ]
    },
    {
      "cell_type": "code",
      "execution_count": null,
      "metadata": {
        "id": "OfJ0ZhbrCWSF",
        "outputId": "c3a7d438-99a2-4f8c-e2f3-97199242e711"
      },
      "outputs": [
        {
          "data": {
            "text/plain": [
              "array([[1., 1., 1., 1., 0., 0.],\n",
              "       [1., 1., 1., 1., 0., 0.]])"
            ]
          },
          "execution_count": 164,
          "metadata": {},
          "output_type": "execute_result"
        }
      ],
      "source": [
        "# Horizontal  stack\n",
        "h1 = np.ones((2,4))\n",
        "h2 = np.zeros((2,2))\n",
        "\n",
        "np.hstack((h1,h2))"
      ]
    },
    {
      "cell_type": "markdown",
      "metadata": {
        "id": "5396e2c0"
      },
      "source": [
        "### 🔍 Explanation:\n",
        "This code demonstrates a basic NumPy operation. Let’s break it down below:\n",
        "- `np.zeros()` creates an array filled with 0s.\n",
        "- `np.ones()` creates an array filled with 1s.\n",
        "- `np.hstack()` horizontally stacks arrays.\n"
      ]
    },
    {
      "cell_type": "markdown",
      "metadata": {
        "id": "JHhQoDsgCWSF"
      },
      "source": [
        "### Miscellaneous\n",
        "##### Load Data from File"
      ]
    },
    {
      "cell_type": "code",
      "execution_count": 16,
      "metadata": {
        "colab": {
          "base_uri": "https://localhost:8080/"
        },
        "id": "-1amBw7uCWSF",
        "outputId": "673d8749-9111-4df7-cf18-d7d4b16a2f08"
      },
      "outputs": [
        {
          "output_type": "stream",
          "name": "stdout",
          "text": [
            "[[  1  13  21  11 196  75   4   3  34   6   7   8   0   1   2   3   4   5]\n",
            " [  3  42  12  33 766  75   4  55   6   4   3   4   5   6   7   0  11  12]\n",
            " [  1  22  33  11 999  11   2   1  78   0   1   2   9   8   7   1  76  88]]\n"
          ]
        }
      ],
      "source": [
        "import numpy as np\n",
        "filedata = np.genfromtxt('data.txt', delimiter=',')\n",
        "filedata = filedata.astype('int16')\n",
        "print(filedata)"
      ]
    },
    {
      "cell_type": "markdown",
      "metadata": {
        "id": "891eace5"
      },
      "source": [
        "### 🔍 Explanation:\n",
        "This code demonstrates a basic NumPy operation. Let’s break it down below:\n",
        "- `np.genfromtxt()` loads data from a text file.\n"
      ]
    },
    {
      "cell_type": "markdown",
      "metadata": {
        "id": "6NMXf6RHCWSF"
      },
      "source": [
        "##### Boolean Masking and Advanced Indexing"
      ]
    },
    {
      "cell_type": "code",
      "execution_count": 19,
      "metadata": {
        "colab": {
          "base_uri": "https://localhost:8080/"
        },
        "id": "axGHF1SHCWSF",
        "outputId": "2d0621a0-efbc-428f-ecf6-d4f69c04cef5"
      },
      "outputs": [
        {
          "output_type": "execute_result",
          "data": {
            "text/plain": [
              "array([[ True,  True,  True,  True,  True,  True,  True,  True,  True,\n",
              "         True,  True,  True,  True,  True,  True,  True,  True,  True],\n",
              "       [ True,  True,  True,  True,  True,  True,  True,  True,  True,\n",
              "         True,  True,  True,  True,  True,  True,  True,  True,  True],\n",
              "       [ True,  True,  True,  True,  True,  True,  True,  True,  True,\n",
              "         True,  True,  True,  True,  True,  True,  True,  True,  True]])"
            ]
          },
          "metadata": {},
          "execution_count": 19
        }
      ],
      "source": [
        "(~((filedata > 50) & (filedata < 10)))"
      ]
    },
    {
      "cell_type": "markdown",
      "metadata": {
        "id": "c307a30b"
      },
      "source": [
        "### 🔍 Explanation:\n",
        "This code demonstrates a basic NumPy operation. Let’s break it down below:\n"
      ]
    },
    {
      "cell_type": "code",
      "execution_count": null,
      "metadata": {
        "id": "NdXoBYgGCWSG"
      },
      "outputs": [],
      "source": []
    },
    {
      "cell_type": "markdown",
      "metadata": {
        "id": "37bec571"
      },
      "source": [
        "### 🔍 Explanation:\n",
        "This code demonstrates a basic NumPy operation. Let’s break it down below:\n"
      ]
    },
    {
      "cell_type": "code",
      "execution_count": null,
      "metadata": {
        "id": "aUs67R1HCWSG"
      },
      "outputs": [],
      "source": []
    },
    {
      "cell_type": "markdown",
      "metadata": {
        "id": "d1fcda21"
      },
      "source": [
        "### 🔍 Explanation:\n",
        "This code demonstrates a basic NumPy operation. Let’s break it down below:\n"
      ]
    },
    {
      "cell_type": "code",
      "execution_count": null,
      "metadata": {
        "id": "GPAPwjEMCWSG"
      },
      "outputs": [],
      "source": []
    },
    {
      "cell_type": "markdown",
      "metadata": {
        "id": "61e15082"
      },
      "source": [
        "### 🔍 Explanation:\n",
        "This code demonstrates a basic NumPy operation. Let’s break it down below:\n"
      ]
    },
    {
      "cell_type": "code",
      "execution_count": null,
      "metadata": {
        "id": "amG_-b9MCWSG"
      },
      "outputs": [],
      "source": []
    },
    {
      "cell_type": "markdown",
      "metadata": {
        "id": "dbd68688"
      },
      "source": [
        "### 🔍 Explanation:\n",
        "This code demonstrates a basic NumPy operation. Let’s break it down below:\n"
      ]
    },
    {
      "cell_type": "code",
      "execution_count": null,
      "metadata": {
        "id": "zdHPvuI9CWSG"
      },
      "outputs": [],
      "source": []
    },
    {
      "cell_type": "markdown",
      "metadata": {
        "id": "5755ae8a"
      },
      "source": [
        "### 🔍 Explanation:\n",
        "This code demonstrates a basic NumPy operation. Let’s break it down below:\n"
      ]
    }
  ],
  "metadata": {
    "kernelspec": {
      "display_name": "Python 3",
      "language": "python",
      "name": "python3"
    },
    "language_info": {
      "codemirror_mode": {
        "name": "ipython",
        "version": 3
      },
      "file_extension": ".py",
      "mimetype": "text/x-python",
      "name": "python",
      "nbconvert_exporter": "python",
      "pygments_lexer": "ipython3",
      "version": "3.6.5"
    },
    "colab": {
      "provenance": [],
      "toc_visible": true,
      "include_colab_link": true
    }
  },
  "nbformat": 4,
  "nbformat_minor": 0
}