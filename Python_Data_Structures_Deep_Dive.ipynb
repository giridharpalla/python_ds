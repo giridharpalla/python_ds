{
  "cells": [
    {
      "cell_type": "markdown",
      "metadata": {
        "id": "view-in-github",
        "colab_type": "text"
      },
      "source": [
        "<a href=\"https://colab.research.google.com/github/giridharpalla/python_ds/blob/main/Python_Data_Structures_Deep_Dive.ipynb\" target=\"_parent\"><img src=\"https://colab.research.google.com/assets/colab-badge.svg\" alt=\"Open In Colab\"/></a>"
      ]
    },
    {
      "cell_type": "markdown",
      "id": "c2077e0a",
      "metadata": {
        "id": "c2077e0a"
      },
      "source": [
        "# Python Data Structures Deep Dive\n",
        "\n",
        "A step-by-step walkthrough of core Python data structures with:\n",
        "\n",
        "* 📘 Real-life analogy  \n",
        "* 🧠 Core concept  \n",
        "* 🔁 Mutability  \n",
        "* ⚙️ Key operations (add, remove, update, access)  \n",
        "* ✅ Key points summary table"
      ]
    },
    {
      "cell_type": "markdown",
      "id": "9283f931",
      "metadata": {
        "id": "9283f931"
      },
      "source": [
        "## 🔹 1. List (`list`)\n",
        "\n",
        "### 📘 Analogy:\n",
        "A shopping list — you can change what’s in it anytime.\n",
        "\n",
        "### 🧠 Core Concept:\n",
        "An **ordered**, **mutable** collection. You can store any type of data, even mix types.\n",
        "\n",
        "### 🔁 Mutable:\n",
        "✅ Yes"
      ]
    },
    {
      "cell_type": "code",
      "execution_count": 1,
      "id": "aed7c214",
      "metadata": {
        "colab": {
          "base_uri": "https://localhost:8080/"
        },
        "id": "aed7c214",
        "outputId": "b04a2bc6-67c1-4ae0-89af-7de4008167c2"
      },
      "outputs": [
        {
          "output_type": "stream",
          "name": "stdout",
          "text": [
            "apple mango cherry 2 3.56 "
          ]
        }
      ],
      "source": [
        "fruits = [\"apple\", \"banana\", \"cherry\",2,3.56]\n",
        "fruits.append(\"orange\")\n",
        "fruits.insert(1, \"mango\")\n",
        "#fruits.insert(3,\"apple\")\n",
        "fruits.remove(\"banana\")\n",
        "fruits.pop()\n",
        "#fruits[0] = \"kiwi\"\n",
        "#print(fruits[1])  # mango\n",
        "for x in fruits:\n",
        "    print(x, end = \" \")"
      ]
    },
    {
      "cell_type": "markdown",
      "id": "c7c462f1",
      "metadata": {
        "id": "c7c462f1"
      },
      "source": [
        "### ✅ Key Points\n",
        "\n",
        "| Feature     | Behavior         | Example                             |\n",
        "| ----------- | ---------------- | ----------------------------------- |\n",
        "| Ordered     | Keeps order      | `[\"a\", \"b\", \"c\"]` → order preserved |\n",
        "| Mutable     | Can change items | `fruits[0] = \"kiwi\"`                |\n",
        "| Duplicates  | Allowed          | `[\"a\", \"a\", \"b\"]`                   |\n",
        "| Indexable   | Yes              | `fruits[1]` → \"banana\"              |\n",
        "| Mixed Types | Allowed          | `[1, \"two\", 3.0]`                   |"
      ]
    },
    {
      "cell_type": "markdown",
      "source": [],
      "metadata": {
        "id": "wYQJfjOyeimn"
      },
      "id": "wYQJfjOyeimn"
    },
    {
      "cell_type": "markdown",
      "id": "c3fa604c",
      "metadata": {
        "id": "c3fa604c"
      },
      "source": [
        "## 🔹 2. Tuple (`tuple`)\n",
        "\n",
        "### 📘 Analogy:\n",
        "Your date of birth — once recorded, can’t be changed.\n",
        "\n",
        "### 🧠 Core Concept:\n",
        "A tuple in Python is an immutable ordered collection of elements. Tuples are similar to lists, but unlike lists, they cannot be changed after their creation (i.e., they are immutable). Tuples can hold elements of different data types. The main characteristics of tuples are being ordered , heterogeneous and immutable.\n",
        "\n",
        "Creating a Tuple\n",
        "A tuple is created by placing all the items inside parentheses (), separated by commas. A tuple can have any number of items and they can be of different data types.\n",
        "\n",
        "### 🔁 Mutable:\n",
        "❌ No"
      ]
    },
    {
      "cell_type": "code",
      "execution_count": null,
      "id": "0a214f34",
      "metadata": {
        "colab": {
          "base_uri": "https://localhost:8080/",
          "height": 52
        },
        "id": "0a214f34",
        "outputId": "45db3903-b0e7-4b6c-f7d7-ff343e9e81bf"
      },
      "outputs": [
        {
          "output_type": "stream",
          "name": "stdout",
          "text": [
            "4\n"
          ]
        },
        {
          "output_type": "execute_result",
          "data": {
            "text/plain": [
              "'li'"
            ],
            "application/vnd.google.colaboratory.intrinsic+json": {
              "type": "string"
            }
          },
          "metadata": {},
          "execution_count": 165
        }
      ],
      "source": [
        "person = (\"Alice\", 30, \"NY\")\n",
        "#person.append(\"USA\")\n",
        "# you cannot append() or insert() into a tuple in Python\n",
        "#person[0] = 4 wrong we cant change\n",
        "person1 = (4, person[1],person[2])\n",
        "print(person1[0])  # Alice\n",
        "person[0][1:3] #slicing"
      ]
    },
    {
      "cell_type": "markdown",
      "id": "62bd6b46",
      "metadata": {
        "id": "62bd6b46"
      },
      "source": [
        "### ✅ Key Points\n",
        "\n",
        "| Feature    | Behavior          | Example                   |\n",
        "| ---------- | ----------------- | ------------------------- |\n",
        "| Ordered    | Keeps order       | `(\"a\", \"b\", \"c\")`         |\n",
        "| Immutable  | Cannot change     | `(\"a\", \"b\")[0] = \"x\"` → ❌ |\n",
        "| Duplicates | Allowed           | `(\"a\", \"a\")`              |\n",
        "| Indexable  | Yes               | `person[1]`               |\n",
        "| Faster     | Faster than lists | For read-only use         |"
      ]
    },
    {
      "cell_type": "markdown",
      "id": "893331eb",
      "metadata": {
        "id": "893331eb"
      },
      "source": [
        "## 🔹 3. Dictionary (`dict`)\n",
        "\n",
        "### 📘 Analogy:\n",
        "A phonebook — name is the key, number is the value.\n",
        "\n",
        "### 🧠 Core Concept:\n",
        "A collection of **key-value pairs**, where keys are unique and values can be any type.\n",
        "\n",
        "### 🔁 Mutable:\n",
        "✅ Yes"
      ]
    },
    {
      "cell_type": "code",
      "execution_count": null,
      "id": "6a0ff1ee",
      "metadata": {
        "colab": {
          "base_uri": "https://localhost:8080/"
        },
        "id": "6a0ff1ee",
        "outputId": "df531abd-0434-496f-bfdc-6014c53ac45c"
      },
      "outputs": [
        {
          "output_type": "stream",
          "name": "stdout",
          "text": [
            "29\n",
            "{'age': 29, 'city': 'Delhi'}\n"
          ]
        }
      ],
      "source": [
        "person = {\"name\": \"Bob\", \"age\": 28}\n",
        "person[\"city\"] = \"Delhi\"\n",
        "person[\"age\"] = 29\n",
        "del person[\"name\"]\n",
        "#person.pop(\"city\")\n",
        "print(person[\"age\"])\n",
        "print(person)"
      ]
    },
    {
      "cell_type": "markdown",
      "id": "6bf6d68e",
      "metadata": {
        "id": "6bf6d68e"
      },
      "source": [
        "### ✅ Key Points\n",
        "\n",
        "| Feature             | Behavior               | Example                       |\n",
        "| ------------------- | ---------------------- | ----------------------------- |\n",
        "| Unordered (pre-3.7) | Insertion order (3.7+) | `{\"a\": 1, \"b\": 2}`            |\n",
        "| Keys Unique         | Yes                    | Cannot repeat key             |\n",
        "| Mutable             | Yes                    | Add, update, remove           |\n",
        "| Indexable           | By key, not position   | `person[\"name\"]`              |\n",
        "| Mixed values        | Yes                    | `{\"id\": 123, \"active\": True}` |"
      ]
    },
    {
      "cell_type": "markdown",
      "id": "4272ef14",
      "metadata": {
        "id": "4272ef14"
      },
      "source": [
        "## 🔹 4. Set (`set`)\n",
        "\n",
        "### 📘 Analogy:\n",
        "Your coin collection — only **unique** items, no duplicates.\n",
        "\n",
        "### 🧠 Core Concept:\n",
        "An **unordered**, **mutable** collection of **unique items**.\n",
        "\n",
        "### 🔁 Mutable:\n",
        "✅ Yes (but the elements must be immutable themselves)"
      ]
    },
    {
      "cell_type": "code",
      "execution_count": null,
      "id": "42797eb8",
      "metadata": {
        "colab": {
          "base_uri": "https://localhost:8080/"
        },
        "id": "42797eb8",
        "outputId": "75b2d394-d938-42a0-88c6-9f4037fd9c83"
      },
      "outputs": [
        {
          "output_type": "stream",
          "name": "stdout",
          "text": [
            "{'red', 'green', 'banana', 'yellow', 'apple'}\n",
            "False\n",
            "{'green', 'banana', 'yellow', 'apple'}\n"
          ]
        }
      ],
      "source": [
        "colors = {\"red\", \"green\", \"blue\",\"apple\",\"banana\",\"apple\",\"banana\"} #doesnt store in order\n",
        "colors.add(\"yellow\")\n",
        "colors.remove(\"blue\")\n",
        "print(colors)\n",
        "colors.pop() #removes random elemebts\n",
        "#colors.clear()\n",
        "\n",
        "\n",
        "\n",
        "print(\"red\" in colors)\n",
        "print(colors)"
      ]
    },
    {
      "cell_type": "code",
      "source": [
        "giridhar = {1}\n",
        "type(giridhar)\n",
        "\n",
        "giridharr = {}\n",
        "type(giridharr)"
      ],
      "metadata": {
        "colab": {
          "base_uri": "https://localhost:8080/"
        },
        "id": "xssg0s1la6lh",
        "outputId": "382f94f4-ab70-4fd9-acba-e0d763a0d4ec"
      },
      "id": "xssg0s1la6lh",
      "execution_count": null,
      "outputs": [
        {
          "output_type": "execute_result",
          "data": {
            "text/plain": [
              "dict"
            ]
          },
          "metadata": {},
          "execution_count": 154
        }
      ]
    },
    {
      "cell_type": "markdown",
      "id": "76755de6",
      "metadata": {
        "id": "76755de6"
      },
      "source": [
        "### ✅ Key Points\n",
        "\n",
        "| Feature       | Behavior             | Example                |\n",
        "| ------------- | -------------------- | ---------------------- |\n",
        "| Unordered     | No index             | ❌ colors[0] → Error    |\n",
        "| Unique values | Yes                  | `{1, 1, 2}` → `{1, 2}` |\n",
        "| Mutable       | Yes                  | `.add()`, `.remove()`  |\n",
        "| Fast lookup   | Yes (like dict keys) | `\"green\" in colors`    |"
      ]
    },
    {
      "cell_type": "markdown",
      "id": "8e860435",
      "metadata": {
        "id": "8e860435"
      },
      "source": [
        "## 🔹 5. String (`str`)\n",
        "\n",
        "### 📘 Analogy:\n",
        "A word printed on paper — you can read it but not change individual letters.\n",
        "\n",
        "### 🧠 Core Concept:\n",
        "An **ordered**, **immutable** sequence of characters.\n",
        "\n",
        "### 🔁 Mutable:\n",
        "❌ No"
      ]
    },
    {
      "cell_type": "code",
      "execution_count": null,
      "id": "a139f025",
      "metadata": {
        "colab": {
          "base_uri": "https://localhost:8080/"
        },
        "id": "a139f025",
        "outputId": "6a326378-0fe9-4a47-d837-79169bbbe398"
      },
      "outputs": [
        {
          "output_type": "stream",
          "name": "stdout",
          "text": [
            "dlrow iH\n"
          ]
        }
      ],
      "source": [
        "text = \"hello world\"\n",
        "text = text.replace(\"hello\", \"Hi\")\n",
        "print(text[::-1])  # h"
      ]
    },
    {
      "cell_type": "markdown",
      "id": "2f80d255",
      "metadata": {
        "id": "2f80d255"
      },
      "source": [
        "### ✅ Key Points\n",
        "\n",
        "| Feature          | Behavior | Example                 |\n",
        "| ---------------- | -------- | ----------------------- |\n",
        "| Ordered          | Yes      | `\"abc\"`                 |\n",
        "| Immutable        | Yes      | `\"abc\"[0] = \"x\"` → ❌    |\n",
        "| Indexable        | Yes      | `text[3]`               |\n",
        "| Supports slicing | Yes      | `text[0:5]` → `\"hello\"` |"
      ]
    },
    {
      "cell_type": "markdown",
      "id": "a3d5a4f9",
      "metadata": {
        "id": "a3d5a4f9"
      },
      "source": [
        "## 🔚 Final Summary Table\n",
        "\n",
        "| Type     | Ordered | Mutable | Duplicates | Indexable | Example                      |\n",
        "| -------- | ------- | ------- | ---------- | --------- | ---------------------------- |\n",
        "| `list`   | ✅ Yes   | ✅ Yes   | ✅ Yes      | ✅ Yes     | `[\"apple\", \"banana\"]`        |\n",
        "| `tuple`  | ✅ Yes   | ❌ No    | ✅ Yes      | ✅ Yes     | `(\"red\", \"blue\")`            |\n",
        "| `dict`   | ✅ Yes   | ✅ Yes   | ❌ Keys     | ❌ Keys    | `{\"name\": \"Bob\", \"age\": 30}` |\n",
        "| `set`    | ❌ No    | ✅ Yes   | ❌ No       | ❌ No      | `{\"python\", \"java\"}`         |\n",
        "| `string` | ✅ Yes   | ❌ No    | ✅ Yes      | ✅ Yes     | `\"hello\"`                    |"
      ]
    }
  ],
  "metadata": {
    "colab": {
      "provenance": [],
      "include_colab_link": true
    },
    "language_info": {
      "name": "python"
    },
    "kernelspec": {
      "name": "python3",
      "display_name": "Python 3"
    }
  },
  "nbformat": 4,
  "nbformat_minor": 5
}