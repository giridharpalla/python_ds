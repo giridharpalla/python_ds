{
  "nbformat": 4,
  "nbformat_minor": 0,
  "metadata": {
    "colab": {
      "provenance": [],
      "gpuType": "T4",
      "authorship_tag": "ABX9TyMrdgoNjea8nxRaIi6aZuVV",
      "include_colab_link": true
    },
    "kernelspec": {
      "name": "python3",
      "display_name": "Python 3"
    },
    "language_info": {
      "name": "python"
    },
    "accelerator": "GPU"
  },
  "cells": [
    {
      "cell_type": "markdown",
      "metadata": {
        "id": "view-in-github",
        "colab_type": "text"
      },
      "source": [
        "<a href=\"https://colab.research.google.com/github/giridharpalla/python_ds/blob/main/python_basic.ipynb\" target=\"_parent\"><img src=\"https://colab.research.google.com/assets/colab-badge.svg\" alt=\"Open In Colab\"/></a>"
      ]
    },
    {
      "cell_type": "code",
      "execution_count": null,
      "metadata": {
        "colab": {
          "base_uri": "https://localhost:8080/"
        },
        "id": "E3V6WChnkNGL",
        "outputId": "74a948dd-b31a-44d8-8612-b989cbdfdf06"
      },
      "outputs": [
        {
          "output_type": "stream",
          "name": "stdout",
          "text": [
            "Toyota engine started in 2020 .\n"
          ]
        }
      ],
      "source": [
        "class Car:\n",
        "    def __init__(self, brand, year):\n",
        "        self.brand = brand\n",
        "        self.year = year\n",
        "\n",
        "    def start_engine(self):\n",
        "        return f\"{self.brand} engine started in {self.year} .\"\n",
        "\n",
        "my_car = Car(\"Toyota\", 2020)\n",
        "print(my_car.start_engine())"
      ]
    },
    {
      "cell_type": "code",
      "source": [
        "cnt = 0\n",
        "while (cnt < 0):\n",
        "    cnt = cnt + 1\n",
        "    print(f\"Giridhar is waste{cnt}\")\n",
        "else:\n",
        "  print(\"EXITING FROM THE WHILE\")"
      ],
      "metadata": {
        "colab": {
          "base_uri": "https://localhost:8080/"
        },
        "id": "txsNqFZKlWM3",
        "outputId": "b872f0b9-9a82-4c53-85ee-8fb2425620a1"
      },
      "execution_count": null,
      "outputs": [
        {
          "output_type": "stream",
          "name": "stdout",
          "text": [
            "EXITING FROM THE WHILE\n"
          ]
        }
      ]
    },
    {
      "cell_type": "markdown",
      "source": [
        "✅ Why does the else run?\n",
        "The else block in a while loop in Python executes only if the loop ends naturally — i.e., not by a break.\n",
        "\n",
        "So:\n",
        "\n",
        "✅ Loop ends because cnt < 3 becomes False → else runs.\n",
        "\n",
        "❌ If the loop ended via break, the else would not run.\n",
        "\n"
      ],
      "metadata": {
        "id": "Db2c3-Rboddt"
      }
    },
    {
      "cell_type": "code",
      "source": [
        "nums = [1, 3, 5, 7]\n",
        "target = 4\n",
        "i = 0\n",
        "\n",
        "while i < len(nums):\n",
        "    print(len(nums))\n",
        "    if nums[i] == target:\n",
        "        print(\"Found it!\")\n",
        "        break\n",
        "    i += 1\n",
        "else:\n",
        "    print(\"Not found!\")\n"
      ],
      "metadata": {
        "colab": {
          "base_uri": "https://localhost:8080/"
        },
        "id": "uXXKIDvYnWW3",
        "outputId": "27e2d30b-7327-4662-8f53-9330b58db38c"
      },
      "execution_count": null,
      "outputs": [
        {
          "output_type": "stream",
          "name": "stdout",
          "text": [
            "4\n",
            "4\n",
            "4\n",
            "4\n",
            "Not found!\n"
          ]
        }
      ]
    },
    {
      "cell_type": "markdown",
      "source": [
        "Infinite While Loop in Python\n",
        "If we want a block of code to execute infinite number of times then we can use the while loop in Python to do so.\n",
        "\n",
        "The code given below uses a 'while' loop with the condition (count == 0) and this loop will only run as long as count is equal to 0. Since count is initially set to 0, the loop will execute indefinitely because the condition is always true."
      ],
      "metadata": {
        "id": "IAliiyhAo7yH"
      }
    },
    {
      "cell_type": "code",
      "source": [
        "count = 0\n",
        "countt = 0\n",
        "while (count == 1):\n",
        "    countt+=1\n",
        "    print(f\"Hello Geek{countt}\")"
      ],
      "metadata": {
        "id": "W42BrNiTo951"
      },
      "execution_count": 1,
      "outputs": []
    },
    {
      "cell_type": "markdown",
      "source": [
        "For Loop in Python\n",
        "For loops are used for sequential traversal. For example: traversing a list or string or array etc. In Python, there is \"for in\" loop which is similar to foreach loop in other languages. Let us learn how to use for loops in Python for sequential traversals with examples.\n",
        "\n",
        "\n",
        "\n",
        "```\n",
        "For Loop Syntax:\n",
        "for iterator_var in sequence:\n",
        "    statements(s)\n",
        "```\n",
        "\n",
        "\n"
      ],
      "metadata": {
        "id": "uVy8gF2Lp-gu"
      }
    },
    {
      "cell_type": "code",
      "source": [
        "n = 4\n",
        "for i in range(0, n):\n",
        "    #print(i)\n",
        "    print(i,  end=' ') #sameline"
      ],
      "metadata": {
        "colab": {
          "base_uri": "https://localhost:8080/"
        },
        "id": "snVfa6MVqAO-",
        "outputId": "6cc47e7e-5fdf-4eab-f4cb-51ee3f3e043e"
      },
      "execution_count": null,
      "outputs": [
        {
          "output_type": "stream",
          "name": "stdout",
          "text": [
            "0 1 2 3 "
          ]
        }
      ]
    },
    {
      "cell_type": "markdown",
      "source": [
        "Example with List, Tuple, String, and Dictionary Iteration Using for Loops in Python"
      ],
      "metadata": {
        "id": "tPuIfcAg7Noi"
      }
    },
    {
      "cell_type": "code",
      "source": [
        "li = [\"geeks\", \"for\", \"geeks\"]\n",
        "for i in li:\n",
        "    print(i, end=\" \")\n",
        "print()\n",
        "\n",
        "tup = (\"geeks\", \"for\", \"geeks\")\n",
        "for i in tup:\n",
        "    print(i)\n",
        "print()\n",
        "\n",
        "s = \"Geeks\"\n",
        "for i in s:\n",
        "    print(i , end = \" \")\n",
        "print()\n",
        "\n",
        "li = [\"geeks\", \"for\", \"geeks\"]\n",
        "for i in li:\n",
        "    print(i, end=\" \")\n",
        "print()\n",
        "\n",
        "tup = (\"geeks\", \"for\", \"geeks\")\n",
        "for i in tup:\n",
        "    print(i)\n",
        "print()\n",
        "\n",
        "s = \"Geeks\"\n",
        "for i in s:\n",
        "    print(i , end = \" \")\n",
        "print()\n",
        "\n",
        "d = dict({'x':123, 'y':354})\n",
        "for i in d:\n",
        "    print(\"%s  %d\" % (i, d[i]), end = \" \")\n",
        "\n",
        "set1 = {1, 2, 3, 4, 5, 6}\n",
        "for i in set1:\n",
        "    print(i, end = \" \"),\n",
        "    print()\n",
        "for i in set1:\n",
        "    print(i, end = \" \"),"
      ],
      "metadata": {
        "colab": {
          "base_uri": "https://localhost:8080/"
        },
        "id": "fMpYGoN27PIs",
        "outputId": "ff82105b-0c22-4868-b3ab-89afe68ca60e"
      },
      "execution_count": null,
      "outputs": [
        {
          "output_type": "stream",
          "name": "stdout",
          "text": [
            "geeks for geeks \n",
            "geeks\n",
            "for\n",
            "geeks\n",
            "\n",
            "G e e k s \n",
            "geeks for geeks \n",
            "geeks\n",
            "for\n",
            "geeks\n",
            "\n",
            "G e e k s \n",
            "x  123 y  354 1 \n",
            "2 \n",
            "3 \n",
            "4 \n",
            "5 \n",
            "6 \n",
            "1 2 3 4 5 6 "
          ]
        }
      ]
    }
  ]
}